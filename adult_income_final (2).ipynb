{
  "nbformat": 4,
  "nbformat_minor": 5,
  "metadata": {
    "kernelspec": {
      "display_name": "Python 3",
      "language": "python",
      "name": "python3"
    },
    "language_info": {
      "codemirror_mode": {
        "name": "ipython",
        "version": 3
      },
      "file_extension": ".py",
      "mimetype": "text/x-python",
      "name": "python",
      "nbconvert_exporter": "python",
      "pygments_lexer": "ipython3",
      "version": "3.8.5"
    },
    "colab": {
      "name": "adult_income_final.ipynb",
      "provenance": [],
      "collapsed_sections": []
    }
  },
  "cells": [
    {
      "cell_type": "code",
      "metadata": {
        "id": "BlG0xEBodFxZ"
      },
      "source": [
        "# Import Required Packages\n",
        "\n",
        "from pandas import read_csv\n",
        "from sklearn.model_selection import train_test_split\n",
        "from sklearn.preprocessing import LabelEncoder\n",
        "from sklearn.preprocessing import OneHotEncoder\n",
        "from keras.models import Sequential\n",
        "from keras.layers import Dense,Dropout,Activation\n",
        "from keras.optimizers import Adam\n",
        "import matplotlib.pyplot as plt\n"
      ],
      "id": "BlG0xEBodFxZ",
      "execution_count": 1,
      "outputs": []
    },
    {
      "cell_type": "code",
      "metadata": {
        "id": "DnYeArBTdFxd"
      },
      "source": [
        "url = 'https://raw.githubusercontent.com/Vol-O09/nueral/main/adult_2.csv'\n",
        "data = read_csv(url)\n",
        "dataset = data.values"
      ],
      "id": "DnYeArBTdFxd",
      "execution_count": 3,
      "outputs": []
    },
    {
      "cell_type": "code",
      "metadata": {
        "id": "GbtUR5NOdFxe"
      },
      "source": [
        "# x input features and y output\n",
        "X = dataset[:, :-1]\n",
        "y = dataset[:,-1]"
      ],
      "id": "GbtUR5NOdFxe",
      "execution_count": 4,
      "outputs": []
    },
    {
      "cell_type": "code",
      "metadata": {
        "id": "TebJNzQsdFxe"
      },
      "source": [
        "# format all fields as string\n",
        "X = X.astype(str)\n",
        "# reshape target to be a 2d array\n",
        "y = y.reshape((len(y), 1))"
      ],
      "id": "TebJNzQsdFxe",
      "execution_count": 7,
      "outputs": []
    },
    {
      "cell_type": "code",
      "metadata": {
        "id": "o1cPn36IdFxe"
      },
      "source": [
        "# Split tdrain and test data sets, 66% train and 33% Test\n",
        "X_train, X_test, y_train, y_test = train_test_split(X, y, test_size=0.33, random_state=1)"
      ],
      "id": "o1cPn36IdFxe",
      "execution_count": 8,
      "outputs": []
    },
    {
      "cell_type": "code",
      "metadata": {
        "colab": {
          "base_uri": "https://localhost:8080/"
        },
        "id": "-1VVEqmOdFxf",
        "outputId": "74694109-9ce9-41f3-e644-53e43472610e"
      },
      "source": [
        "print('Train', X_train.shape, y_train.shape)\n",
        "print('Test', X_test.shape, y_test.shape)"
      ],
      "id": "-1VVEqmOdFxf",
      "execution_count": 9,
      "outputs": [
        {
          "output_type": "stream",
          "text": [
            "Train (30298, 14) (30298, 1)\n",
            "Test (14924, 14) (14924, 1)\n"
          ],
          "name": "stdout"
        }
      ]
    },
    {
      "cell_type": "code",
      "metadata": {
        "id": "-kknVYaFdFxi"
      },
      "source": [
        "def prepare_inputs(X_train, X_test):\n",
        " oe = OneHotEncoder(handle_unknown = \"ignore\")\n",
        " oe.fit(X_train)\n",
        " X_train_enc = oe.transform(X_train)\n",
        " X_test_enc = oe.transform(X_test)\n",
        " return X_train_enc, X_test_enc"
      ],
      "id": "-kknVYaFdFxi",
      "execution_count": 10,
      "outputs": []
    },
    {
      "cell_type": "code",
      "metadata": {
        "id": "iApWcPFCdFxi"
      },
      "source": [
        "def prepare_targets(y_train, y_test):\n",
        " le = LabelEncoder()\n",
        " le.fit(y_train)\n",
        " y_train_enc = le.transform(y_train)\n",
        " y_test_enc = le.transform(y_test)\n",
        " return y_train_enc, y_test_enc"
      ],
      "id": "iApWcPFCdFxi",
      "execution_count": 12,
      "outputs": []
    },
    {
      "cell_type": "code",
      "metadata": {
        "colab": {
          "base_uri": "https://localhost:8080/"
        },
        "id": "_M-cWX-qdFxj",
        "outputId": "845308dc-4bc5-4935-979a-7bda042e61b7"
      },
      "source": [
        "# prepare input data\n",
        "X_train_enc, X_test_enc = prepare_inputs(X_train, X_test)\n",
        "# prepare output data\n",
        "y_train_enc, y_test_enc = prepare_targets(y_train, y_test)"
      ],
      "id": "_M-cWX-qdFxj",
      "execution_count": 13,
      "outputs": [
        {
          "output_type": "stream",
          "text": [
            "/usr/local/lib/python3.7/dist-packages/sklearn/preprocessing/_label.py:235: DataConversionWarning: A column-vector y was passed when a 1d array was expected. Please change the shape of y to (n_samples, ), for example using ravel().\n",
            "  y = column_or_1d(y, warn=True)\n",
            "/usr/local/lib/python3.7/dist-packages/sklearn/preprocessing/_label.py:268: DataConversionWarning: A column-vector y was passed when a 1d array was expected. Please change the shape of y to (n_samples, ), for example using ravel().\n",
            "  y = column_or_1d(y, warn=True)\n"
          ],
          "name": "stderr"
        }
      ]
    },
    {
      "cell_type": "code",
      "metadata": {
        "id": "vSdSX4Y7dFxj"
      },
      "source": [
        "model = Sequential([\n",
        "  Dense(8, activation='relu', input_shape = [X_train_enc.shape[1]]),\n",
        "  Dense(4, activation='relu'),  \n",
        "  Dense(2, activation='softmax')                     \n",
        "])\n",
        "\n",
        "model.compile(optimizer='adam',\n",
        "              loss='sparse_categorical_crossentropy',\n",
        "              metrics=['accuracy'])"
      ],
      "id": "vSdSX4Y7dFxj",
      "execution_count": 16,
      "outputs": []
    },
    {
      "cell_type": "code",
      "metadata": {
        "colab": {
          "base_uri": "https://localhost:8080/"
        },
        "id": "y2izI7wodFxk",
        "outputId": "376eead0-7b04-4fb6-a8a7-86a98892b39f"
      },
      "source": [
        "print(model.summary())"
      ],
      "id": "y2izI7wodFxk",
      "execution_count": 17,
      "outputs": [
        {
          "output_type": "stream",
          "text": [
            "Model: \"sequential\"\n",
            "_________________________________________________________________\n",
            "Layer (type)                 Output Shape              Param #   \n",
            "=================================================================\n",
            "dense (Dense)                (None, 8)                 166272    \n",
            "_________________________________________________________________\n",
            "dense_1 (Dense)              (None, 4)                 36        \n",
            "_________________________________________________________________\n",
            "dense_2 (Dense)              (None, 2)                 10        \n",
            "=================================================================\n",
            "Total params: 166,318\n",
            "Trainable params: 166,318\n",
            "Non-trainable params: 0\n",
            "_________________________________________________________________\n",
            "None\n"
          ],
          "name": "stdout"
        }
      ]
    },
    {
      "cell_type": "code",
      "metadata": {
        "colab": {
          "base_uri": "https://localhost:8080/"
        },
        "id": "2lbIb93idFxl",
        "outputId": "bec06895-4e0a-47ff-e113-5708dc9924b2"
      },
      "source": [
        "history = model.fit(X_train_enc, y_train_enc, batch_size=500, epochs=100, validation_data=(X_test_enc, y_test_enc))"
      ],
      "id": "2lbIb93idFxl",
      "execution_count": 18,
      "outputs": [
        {
          "output_type": "stream",
          "text": [
            "Epoch 1/100\n",
            "61/61 [==============================] - 2s 12ms/step - loss: 0.6322 - accuracy: 0.7552 - val_loss: 0.4862 - val_accuracy: 0.7497\n",
            "Epoch 2/100\n",
            "61/61 [==============================] - 0s 6ms/step - loss: 0.4519 - accuracy: 0.7549 - val_loss: 0.4070 - val_accuracy: 0.7497\n",
            "Epoch 3/100\n",
            "61/61 [==============================] - 0s 6ms/step - loss: 0.3893 - accuracy: 0.7533 - val_loss: 0.3801 - val_accuracy: 0.7497\n",
            "Epoch 4/100\n",
            "61/61 [==============================] - 0s 6ms/step - loss: 0.3639 - accuracy: 0.7510 - val_loss: 0.3661 - val_accuracy: 0.8451\n",
            "Epoch 5/100\n",
            "61/61 [==============================] - 0s 6ms/step - loss: 0.3391 - accuracy: 0.8653 - val_loss: 0.3568 - val_accuracy: 0.8490\n",
            "Epoch 6/100\n",
            "61/61 [==============================] - 0s 6ms/step - loss: 0.3153 - accuracy: 0.8801 - val_loss: 0.3153 - val_accuracy: 0.8592\n",
            "Epoch 7/100\n",
            "61/61 [==============================] - 0s 6ms/step - loss: 0.2601 - accuracy: 0.8932 - val_loss: 0.3042 - val_accuracy: 0.8613\n",
            "Epoch 8/100\n",
            "61/61 [==============================] - 0s 6ms/step - loss: 0.2360 - accuracy: 0.9073 - val_loss: 0.2998 - val_accuracy: 0.8623\n",
            "Epoch 9/100\n",
            "61/61 [==============================] - 0s 6ms/step - loss: 0.2098 - accuracy: 0.9186 - val_loss: 0.2997 - val_accuracy: 0.8612\n",
            "Epoch 10/100\n",
            "61/61 [==============================] - 0s 6ms/step - loss: 0.1875 - accuracy: 0.9292 - val_loss: 0.3020 - val_accuracy: 0.8592\n",
            "Epoch 11/100\n",
            "61/61 [==============================] - 0s 6ms/step - loss: 0.1687 - accuracy: 0.9368 - val_loss: 0.3081 - val_accuracy: 0.8579\n",
            "Epoch 12/100\n",
            "61/61 [==============================] - 0s 6ms/step - loss: 0.1512 - accuracy: 0.9446 - val_loss: 0.3174 - val_accuracy: 0.8547\n",
            "Epoch 13/100\n",
            "61/61 [==============================] - 0s 6ms/step - loss: 0.1355 - accuracy: 0.9517 - val_loss: 0.3307 - val_accuracy: 0.8496\n",
            "Epoch 14/100\n",
            "61/61 [==============================] - 0s 6ms/step - loss: 0.1193 - accuracy: 0.9604 - val_loss: 0.3387 - val_accuracy: 0.8514\n",
            "Epoch 15/100\n",
            "61/61 [==============================] - 0s 6ms/step - loss: 0.1092 - accuracy: 0.9609 - val_loss: 0.3536 - val_accuracy: 0.8466\n",
            "Epoch 16/100\n",
            "61/61 [==============================] - 0s 6ms/step - loss: 0.1030 - accuracy: 0.9627 - val_loss: 0.3674 - val_accuracy: 0.8439\n",
            "Epoch 17/100\n",
            "61/61 [==============================] - 1s 9ms/step - loss: 0.0988 - accuracy: 0.9635 - val_loss: 0.3767 - val_accuracy: 0.8466\n",
            "Epoch 18/100\n",
            "61/61 [==============================] - 1s 8ms/step - loss: 0.0933 - accuracy: 0.9642 - val_loss: 0.3880 - val_accuracy: 0.8465\n",
            "Epoch 19/100\n",
            "61/61 [==============================] - 0s 6ms/step - loss: 0.0874 - accuracy: 0.9653 - val_loss: 0.4037 - val_accuracy: 0.8395\n",
            "Epoch 20/100\n",
            "61/61 [==============================] - 0s 6ms/step - loss: 0.0831 - accuracy: 0.9672 - val_loss: 0.4120 - val_accuracy: 0.8410\n",
            "Epoch 21/100\n",
            "61/61 [==============================] - 0s 5ms/step - loss: 0.0827 - accuracy: 0.9660 - val_loss: 0.4223 - val_accuracy: 0.8401\n",
            "Epoch 22/100\n",
            "61/61 [==============================] - 0s 6ms/step - loss: 0.0783 - accuracy: 0.9683 - val_loss: 0.4330 - val_accuracy: 0.8427\n",
            "Epoch 23/100\n",
            "61/61 [==============================] - 0s 6ms/step - loss: 0.0778 - accuracy: 0.9682 - val_loss: 0.4401 - val_accuracy: 0.8411\n",
            "Epoch 24/100\n",
            "61/61 [==============================] - 0s 6ms/step - loss: 0.0758 - accuracy: 0.9685 - val_loss: 0.4505 - val_accuracy: 0.8397\n",
            "Epoch 25/100\n",
            "61/61 [==============================] - 0s 6ms/step - loss: 0.0756 - accuracy: 0.9682 - val_loss: 0.4579 - val_accuracy: 0.8390\n",
            "Epoch 26/100\n",
            "61/61 [==============================] - 0s 6ms/step - loss: 0.0728 - accuracy: 0.9704 - val_loss: 0.4670 - val_accuracy: 0.8386\n",
            "Epoch 27/100\n",
            "61/61 [==============================] - 0s 6ms/step - loss: 0.0696 - accuracy: 0.9703 - val_loss: 0.4752 - val_accuracy: 0.8378\n",
            "Epoch 28/100\n",
            "61/61 [==============================] - 0s 6ms/step - loss: 0.0689 - accuracy: 0.9707 - val_loss: 0.4822 - val_accuracy: 0.8378\n",
            "Epoch 29/100\n",
            "61/61 [==============================] - 0s 6ms/step - loss: 0.0725 - accuracy: 0.9687 - val_loss: 0.4930 - val_accuracy: 0.8350\n",
            "Epoch 30/100\n",
            "61/61 [==============================] - 0s 6ms/step - loss: 0.0669 - accuracy: 0.9702 - val_loss: 0.4962 - val_accuracy: 0.8380\n",
            "Epoch 31/100\n",
            "61/61 [==============================] - 0s 6ms/step - loss: 0.0713 - accuracy: 0.9684 - val_loss: 0.5053 - val_accuracy: 0.8354\n",
            "Epoch 32/100\n",
            "61/61 [==============================] - 0s 6ms/step - loss: 0.0661 - accuracy: 0.9718 - val_loss: 0.5094 - val_accuracy: 0.8365\n",
            "Epoch 33/100\n",
            "61/61 [==============================] - 0s 7ms/step - loss: 0.0698 - accuracy: 0.9681 - val_loss: 0.5140 - val_accuracy: 0.8370\n",
            "Epoch 34/100\n",
            "61/61 [==============================] - 1s 8ms/step - loss: 0.0660 - accuracy: 0.9705 - val_loss: 0.5206 - val_accuracy: 0.8366\n",
            "Epoch 35/100\n",
            "61/61 [==============================] - 1s 8ms/step - loss: 0.0677 - accuracy: 0.9708 - val_loss: 0.5253 - val_accuracy: 0.8373\n",
            "Epoch 36/100\n",
            "61/61 [==============================] - 1s 8ms/step - loss: 0.0674 - accuracy: 0.9693 - val_loss: 0.5317 - val_accuracy: 0.8368\n",
            "Epoch 37/100\n",
            "61/61 [==============================] - 1s 7ms/step - loss: 0.0658 - accuracy: 0.9701 - val_loss: 0.5409 - val_accuracy: 0.8330\n",
            "Epoch 38/100\n",
            "61/61 [==============================] - 0s 6ms/step - loss: 0.0672 - accuracy: 0.9697 - val_loss: 0.5443 - val_accuracy: 0.8340\n",
            "Epoch 39/100\n",
            "61/61 [==============================] - 0s 7ms/step - loss: 0.0632 - accuracy: 0.9724 - val_loss: 0.5488 - val_accuracy: 0.8332\n",
            "Epoch 40/100\n",
            "61/61 [==============================] - 1s 8ms/step - loss: 0.0679 - accuracy: 0.9685 - val_loss: 0.5502 - val_accuracy: 0.8367\n",
            "Epoch 41/100\n",
            "61/61 [==============================] - 0s 7ms/step - loss: 0.0679 - accuracy: 0.9699 - val_loss: 0.5557 - val_accuracy: 0.8340\n",
            "Epoch 42/100\n",
            "61/61 [==============================] - 0s 6ms/step - loss: 0.0664 - accuracy: 0.9701 - val_loss: 0.5595 - val_accuracy: 0.8340\n",
            "Epoch 43/100\n",
            "61/61 [==============================] - 0s 6ms/step - loss: 0.0656 - accuracy: 0.9716 - val_loss: 0.5648 - val_accuracy: 0.8326\n",
            "Epoch 44/100\n",
            "61/61 [==============================] - 0s 6ms/step - loss: 0.0649 - accuracy: 0.9712 - val_loss: 0.5671 - val_accuracy: 0.8339\n",
            "Epoch 45/100\n",
            "61/61 [==============================] - 0s 5ms/step - loss: 0.0668 - accuracy: 0.9696 - val_loss: 0.5717 - val_accuracy: 0.8329\n",
            "Epoch 46/100\n",
            "61/61 [==============================] - 0s 7ms/step - loss: 0.0686 - accuracy: 0.9675 - val_loss: 0.5787 - val_accuracy: 0.8317\n",
            "Epoch 47/100\n",
            "61/61 [==============================] - 1s 8ms/step - loss: 0.0619 - accuracy: 0.9724 - val_loss: 0.5865 - val_accuracy: 0.8285\n",
            "Epoch 48/100\n",
            "61/61 [==============================] - 0s 7ms/step - loss: 0.0653 - accuracy: 0.9707 - val_loss: 0.5829 - val_accuracy: 0.8326\n",
            "Epoch 49/100\n",
            "61/61 [==============================] - 0s 6ms/step - loss: 0.0652 - accuracy: 0.9683 - val_loss: 0.5849 - val_accuracy: 0.8327\n",
            "Epoch 50/100\n",
            "61/61 [==============================] - 0s 6ms/step - loss: 0.0642 - accuracy: 0.9706 - val_loss: 0.5904 - val_accuracy: 0.8311\n",
            "Epoch 51/100\n",
            "61/61 [==============================] - 1s 11ms/step - loss: 0.0628 - accuracy: 0.9716 - val_loss: 0.5882 - val_accuracy: 0.8336\n",
            "Epoch 52/100\n",
            "61/61 [==============================] - 0s 7ms/step - loss: 0.0672 - accuracy: 0.9691 - val_loss: 0.5941 - val_accuracy: 0.8322\n",
            "Epoch 53/100\n",
            "61/61 [==============================] - 0s 6ms/step - loss: 0.0656 - accuracy: 0.9693 - val_loss: 0.5935 - val_accuracy: 0.8344\n",
            "Epoch 54/100\n",
            "61/61 [==============================] - 0s 6ms/step - loss: 0.0645 - accuracy: 0.9698 - val_loss: 0.6027 - val_accuracy: 0.8303\n",
            "Epoch 55/100\n",
            "61/61 [==============================] - 0s 6ms/step - loss: 0.0643 - accuracy: 0.9713 - val_loss: 0.6021 - val_accuracy: 0.8328\n",
            "Epoch 56/100\n",
            "61/61 [==============================] - 0s 6ms/step - loss: 0.0606 - accuracy: 0.9726 - val_loss: 0.6030 - val_accuracy: 0.8330\n",
            "Epoch 57/100\n",
            "61/61 [==============================] - 0s 6ms/step - loss: 0.0626 - accuracy: 0.9707 - val_loss: 0.6056 - val_accuracy: 0.8336\n",
            "Epoch 58/100\n",
            "61/61 [==============================] - 0s 6ms/step - loss: 0.0650 - accuracy: 0.9709 - val_loss: 0.6086 - val_accuracy: 0.8345\n",
            "Epoch 59/100\n",
            "61/61 [==============================] - 0s 6ms/step - loss: 0.0623 - accuracy: 0.9709 - val_loss: 0.6152 - val_accuracy: 0.8307\n",
            "Epoch 60/100\n",
            "61/61 [==============================] - 0s 6ms/step - loss: 0.0619 - accuracy: 0.9725 - val_loss: 0.6167 - val_accuracy: 0.8311\n",
            "Epoch 61/100\n",
            "61/61 [==============================] - 0s 6ms/step - loss: 0.0613 - accuracy: 0.9720 - val_loss: 0.6164 - val_accuracy: 0.8340\n",
            "Epoch 62/100\n",
            "61/61 [==============================] - 0s 6ms/step - loss: 0.0618 - accuracy: 0.9729 - val_loss: 0.6197 - val_accuracy: 0.8338\n",
            "Epoch 63/100\n",
            "61/61 [==============================] - 0s 6ms/step - loss: 0.0638 - accuracy: 0.9709 - val_loss: 0.6239 - val_accuracy: 0.8315\n",
            "Epoch 64/100\n",
            "61/61 [==============================] - 0s 6ms/step - loss: 0.0628 - accuracy: 0.9713 - val_loss: 0.6248 - val_accuracy: 0.8330\n",
            "Epoch 65/100\n",
            "61/61 [==============================] - 1s 8ms/step - loss: 0.0630 - accuracy: 0.9703 - val_loss: 0.6336 - val_accuracy: 0.8270\n",
            "Epoch 66/100\n",
            "61/61 [==============================] - 1s 8ms/step - loss: 0.0643 - accuracy: 0.9701 - val_loss: 0.6317 - val_accuracy: 0.8307\n",
            "Epoch 67/100\n",
            "61/61 [==============================] - 0s 6ms/step - loss: 0.0628 - accuracy: 0.9705 - val_loss: 0.6330 - val_accuracy: 0.8327\n",
            "Epoch 68/100\n",
            "61/61 [==============================] - 0s 5ms/step - loss: 0.0630 - accuracy: 0.9714 - val_loss: 0.6378 - val_accuracy: 0.8301\n",
            "Epoch 69/100\n",
            "61/61 [==============================] - 0s 6ms/step - loss: 0.0629 - accuracy: 0.9717 - val_loss: 0.6375 - val_accuracy: 0.8306\n",
            "Epoch 70/100\n",
            "61/61 [==============================] - 0s 6ms/step - loss: 0.0622 - accuracy: 0.9716 - val_loss: 0.6401 - val_accuracy: 0.8322\n",
            "Epoch 71/100\n",
            "61/61 [==============================] - 0s 6ms/step - loss: 0.0606 - accuracy: 0.9721 - val_loss: 0.6431 - val_accuracy: 0.8294\n",
            "Epoch 72/100\n",
            "61/61 [==============================] - 0s 6ms/step - loss: 0.0613 - accuracy: 0.9722 - val_loss: 0.6453 - val_accuracy: 0.8293\n",
            "Epoch 73/100\n",
            "61/61 [==============================] - 0s 6ms/step - loss: 0.0598 - accuracy: 0.9724 - val_loss: 0.6462 - val_accuracy: 0.8309\n",
            "Epoch 74/100\n",
            "61/61 [==============================] - 0s 5ms/step - loss: 0.0602 - accuracy: 0.9739 - val_loss: 0.6477 - val_accuracy: 0.8308\n",
            "Epoch 75/100\n",
            "61/61 [==============================] - 0s 5ms/step - loss: 0.0631 - accuracy: 0.9710 - val_loss: 0.6466 - val_accuracy: 0.8336\n",
            "Epoch 76/100\n",
            "61/61 [==============================] - 0s 6ms/step - loss: 0.0599 - accuracy: 0.9731 - val_loss: 0.6543 - val_accuracy: 0.8281\n",
            "Epoch 77/100\n",
            "61/61 [==============================] - 0s 6ms/step - loss: 0.0610 - accuracy: 0.9719 - val_loss: 0.6537 - val_accuracy: 0.8315\n",
            "Epoch 78/100\n",
            "61/61 [==============================] - 0s 6ms/step - loss: 0.0601 - accuracy: 0.9722 - val_loss: 0.6579 - val_accuracy: 0.8307\n",
            "Epoch 79/100\n",
            "61/61 [==============================] - 0s 7ms/step - loss: 0.0620 - accuracy: 0.9716 - val_loss: 0.6612 - val_accuracy: 0.8281\n",
            "Epoch 80/100\n",
            "61/61 [==============================] - 1s 8ms/step - loss: 0.0631 - accuracy: 0.9709 - val_loss: 0.6739 - val_accuracy: 0.8222\n",
            "Epoch 81/100\n",
            "61/61 [==============================] - 0s 7ms/step - loss: 0.0611 - accuracy: 0.9718 - val_loss: 0.6669 - val_accuracy: 0.8271\n",
            "Epoch 82/100\n",
            "61/61 [==============================] - 0s 6ms/step - loss: 0.0617 - accuracy: 0.9712 - val_loss: 0.6647 - val_accuracy: 0.8295\n",
            "Epoch 83/100\n",
            "61/61 [==============================] - 0s 6ms/step - loss: 0.0632 - accuracy: 0.9710 - val_loss: 0.6658 - val_accuracy: 0.8294\n",
            "Epoch 84/100\n",
            "61/61 [==============================] - 0s 6ms/step - loss: 0.0616 - accuracy: 0.9716 - val_loss: 0.6679 - val_accuracy: 0.8317\n",
            "Epoch 85/100\n",
            "61/61 [==============================] - 0s 6ms/step - loss: 0.0622 - accuracy: 0.9706 - val_loss: 0.6688 - val_accuracy: 0.8305\n",
            "Epoch 86/100\n",
            "61/61 [==============================] - 0s 7ms/step - loss: 0.0592 - accuracy: 0.9727 - val_loss: 0.6725 - val_accuracy: 0.8297\n",
            "Epoch 87/100\n",
            "61/61 [==============================] - 1s 8ms/step - loss: 0.0609 - accuracy: 0.9721 - val_loss: 0.6741 - val_accuracy: 0.8301\n",
            "Epoch 88/100\n",
            "61/61 [==============================] - 0s 6ms/step - loss: 0.0581 - accuracy: 0.9736 - val_loss: 0.6775 - val_accuracy: 0.8287\n",
            "Epoch 89/100\n",
            "61/61 [==============================] - 0s 6ms/step - loss: 0.0590 - accuracy: 0.9734 - val_loss: 0.6799 - val_accuracy: 0.8279\n",
            "Epoch 90/100\n",
            "61/61 [==============================] - 0s 6ms/step - loss: 0.0609 - accuracy: 0.9719 - val_loss: 0.6782 - val_accuracy: 0.8311\n",
            "Epoch 91/100\n",
            "61/61 [==============================] - 0s 6ms/step - loss: 0.0609 - accuracy: 0.9720 - val_loss: 0.6837 - val_accuracy: 0.8281\n",
            "Epoch 92/100\n",
            "61/61 [==============================] - 0s 6ms/step - loss: 0.0611 - accuracy: 0.9717 - val_loss: 0.6842 - val_accuracy: 0.8297\n",
            "Epoch 93/100\n",
            "61/61 [==============================] - 0s 7ms/step - loss: 0.0597 - accuracy: 0.9720 - val_loss: 0.6850 - val_accuracy: 0.8289\n",
            "Epoch 94/100\n",
            "61/61 [==============================] - 1s 8ms/step - loss: 0.0573 - accuracy: 0.9736 - val_loss: 0.6959 - val_accuracy: 0.8233\n",
            "Epoch 95/100\n",
            "61/61 [==============================] - 0s 6ms/step - loss: 0.0589 - accuracy: 0.9731 - val_loss: 0.6875 - val_accuracy: 0.8314\n",
            "Epoch 96/100\n",
            "61/61 [==============================] - 0s 5ms/step - loss: 0.0617 - accuracy: 0.9726 - val_loss: 0.6923 - val_accuracy: 0.8306\n",
            "Epoch 97/100\n",
            "61/61 [==============================] - 0s 5ms/step - loss: 0.0626 - accuracy: 0.9707 - val_loss: 0.6995 - val_accuracy: 0.8246\n",
            "Epoch 98/100\n",
            "61/61 [==============================] - 0s 6ms/step - loss: 0.0597 - accuracy: 0.9735 - val_loss: 0.7040 - val_accuracy: 0.8234\n",
            "Epoch 99/100\n",
            "61/61 [==============================] - 0s 6ms/step - loss: 0.0583 - accuracy: 0.9730 - val_loss: 0.6970 - val_accuracy: 0.8274\n",
            "Epoch 100/100\n",
            "61/61 [==============================] - 0s 5ms/step - loss: 0.0592 - accuracy: 0.9724 - val_loss: 0.7007 - val_accuracy: 0.8272\n"
          ],
          "name": "stdout"
        }
      ]
    },
    {
      "cell_type": "code",
      "metadata": {
        "colab": {
          "base_uri": "https://localhost:8080/"
        },
        "id": "uSLac3qMdFxl",
        "outputId": "cd998a83-c767-41f8-defa-b0247d5c4731"
      },
      "source": [
        "test_loss, test_acc = model.evaluate(X_test_enc, y_test_enc, verbose=2)"
      ],
      "id": "uSLac3qMdFxl",
      "execution_count": 21,
      "outputs": [
        {
          "output_type": "stream",
          "text": [
            "467/467 - 0s - loss: 0.7007 - accuracy: 0.8272\n"
          ],
          "name": "stdout"
        }
      ]
    },
    {
      "cell_type": "code",
      "metadata": {
        "colab": {
          "base_uri": "https://localhost:8080/",
          "height": 295
        },
        "id": "sbveJNnrdFxl",
        "outputId": "8384d6b8-50a5-433b-e6dc-6e5cd949e1be"
      },
      "source": [
        "plt.plot(history.history['accuracy'])\n",
        "plt.plot(history.history['val_accuracy'])\n",
        "plt.title('Model accuracy')\n",
        "plt.ylabel('Accuracy')\n",
        "plt.xlabel('Epoch')\n",
        "plt.legend(['Train', 'Test'], loc='upper left')\n",
        "plt.show()"
      ],
      "id": "sbveJNnrdFxl",
      "execution_count": 23,
      "outputs": [
        {
          "output_type": "display_data",
          "data": {
            "image/png": "[encoded data removed]",
            "text/plain": [
              "<Figure size 432x288 with 1 Axes>"
            ]
          },
          "metadata": {
            "tags": [],
            "needs_background": "light"
          }
        }
      ]
    },
    {
      "cell_type": "code",
      "metadata": {
        "colab": {
          "base_uri": "https://localhost:8080/",
          "height": 295
        },
        "id": "GXKTkh_fdFxm",
        "outputId": "57c70c2a-8180-4afb-c326-0d2ef8f63892"
      },
      "source": [
        "plt.plot(history.history['loss'])\n",
        "plt.plot(history.history['val_loss'])\n",
        "plt.title('Model loss')\n",
        "plt.ylabel('Loss')\n",
        "plt.xlabel('Epoch')\n",
        "plt.legend(['Train', 'Test'], loc='upper left')\n",
        "plt.show()"
      ],
      "id": "GXKTkh_fdFxm",
      "execution_count": 24,
      "outputs": [
        {
          "output_type": "display_data",
          "data": {
            "image/png": "[encoded data removed]",
            "text/plain": [
              "<Figure size 432x288 with 1 Axes>"
            ]
          },
          "metadata": {
            "tags": [],
            "needs_background": "light"
          }
        }
      ]
    }
  ]
}